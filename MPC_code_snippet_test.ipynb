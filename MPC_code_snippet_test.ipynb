{
  "nbformat": 4,
  "nbformat_minor": 0,
  "metadata": {
    "colab": {
      "provenance": [],
      "authorship_tag": "ABX9TyOv0kTJX9XfcvcBFwC3dUCq",
      "include_colab_link": true
    },
    "kernelspec": {
      "name": "python3",
      "display_name": "Python 3"
    },
    "language_info": {
      "name": "python"
    }
  },
  "cells": [
    {
      "cell_type": "markdown",
      "metadata": {
        "id": "view-in-github",
        "colab_type": "text"
      },
      "source": [
        "<a href=\"https://colab.research.google.com/github/Octopusflower/NSF-funding-web-scrap/blob/main/MPC_code_snippet_test.ipynb\" target=\"_parent\"><img src=\"https://colab.research.google.com/assets/colab-badge.svg\" alt=\"Open In Colab\"/></a>"
      ]
    },
    {
      "cell_type": "code",
      "execution_count": null,
      "metadata": {
        "colab": {
          "base_uri": "https://localhost:8080/"
        },
        "id": "d_yfSdO0UPZq",
        "outputId": "21ba3a32-87bd-4a58-c187-2a76b49a063e"
      },
      "outputs": [
        {
          "output_type": "stream",
          "name": "stdout",
          "text": [
            "Collecting pystac-client\n",
            "  Downloading pystac_client-0.8.6-py3-none-any.whl.metadata (3.0 kB)\n",
            "Collecting planetary-computer\n",
            "  Downloading planetary_computer-1.0.0-py3-none-any.whl.metadata (7.4 kB)\n",
            "Requirement already satisfied: requests>=2.28.2 in /usr/local/lib/python3.11/dist-packages (from pystac-client) (2.32.3)\n",
            "Collecting pystac>=1.10.0 (from pystac[validation]>=1.10.0->pystac-client)\n",
            "  Downloading pystac-1.13.0-py3-none-any.whl.metadata (4.7 kB)\n",
            "Requirement already satisfied: python-dateutil>=2.8.2 in /usr/local/lib/python3.11/dist-packages (from pystac-client) (2.9.0.post0)\n",
            "Requirement already satisfied: click>=7.1 in /usr/local/lib/python3.11/dist-packages (from planetary-computer) (8.2.1)\n",
            "Requirement already satisfied: pydantic>=1.7.3 in /usr/local/lib/python3.11/dist-packages (from planetary-computer) (2.11.5)\n",
            "Requirement already satisfied: pytz>=2020.5 in /usr/local/lib/python3.11/dist-packages (from planetary-computer) (2025.2)\n",
            "Requirement already satisfied: packaging in /usr/local/lib/python3.11/dist-packages (from planetary-computer) (24.2)\n",
            "Collecting python-dotenv (from planetary-computer)\n",
            "  Downloading python_dotenv-1.1.0-py3-none-any.whl.metadata (24 kB)\n",
            "Requirement already satisfied: annotated-types>=0.6.0 in /usr/local/lib/python3.11/dist-packages (from pydantic>=1.7.3->planetary-computer) (0.7.0)\n",
            "Requirement already satisfied: pydantic-core==2.33.2 in /usr/local/lib/python3.11/dist-packages (from pydantic>=1.7.3->planetary-computer) (2.33.2)\n",
            "Requirement already satisfied: typing-extensions>=4.12.2 in /usr/local/lib/python3.11/dist-packages (from pydantic>=1.7.3->planetary-computer) (4.13.2)\n",
            "Requirement already satisfied: typing-inspection>=0.4.0 in /usr/local/lib/python3.11/dist-packages (from pydantic>=1.7.3->planetary-computer) (0.4.1)\n",
            "Requirement already satisfied: jsonschema~=4.18 in /usr/local/lib/python3.11/dist-packages (from pystac[validation]>=1.10.0->pystac-client) (4.24.0)\n",
            "Requirement already satisfied: six>=1.5 in /usr/local/lib/python3.11/dist-packages (from python-dateutil>=2.8.2->pystac-client) (1.17.0)\n",
            "Requirement already satisfied: charset-normalizer<4,>=2 in /usr/local/lib/python3.11/dist-packages (from requests>=2.28.2->pystac-client) (3.4.2)\n",
            "Requirement already satisfied: idna<4,>=2.5 in /usr/local/lib/python3.11/dist-packages (from requests>=2.28.2->pystac-client) (3.10)\n",
            "Requirement already satisfied: urllib3<3,>=1.21.1 in /usr/local/lib/python3.11/dist-packages (from requests>=2.28.2->pystac-client) (2.4.0)\n",
            "Requirement already satisfied: certifi>=2017.4.17 in /usr/local/lib/python3.11/dist-packages (from requests>=2.28.2->pystac-client) (2025.4.26)\n",
            "Requirement already satisfied: attrs>=22.2.0 in /usr/local/lib/python3.11/dist-packages (from jsonschema~=4.18->pystac[validation]>=1.10.0->pystac-client) (25.3.0)\n",
            "Requirement already satisfied: jsonschema-specifications>=2023.03.6 in /usr/local/lib/python3.11/dist-packages (from jsonschema~=4.18->pystac[validation]>=1.10.0->pystac-client) (2025.4.1)\n",
            "Requirement already satisfied: referencing>=0.28.4 in /usr/local/lib/python3.11/dist-packages (from jsonschema~=4.18->pystac[validation]>=1.10.0->pystac-client) (0.36.2)\n",
            "Requirement already satisfied: rpds-py>=0.7.1 in /usr/local/lib/python3.11/dist-packages (from jsonschema~=4.18->pystac[validation]>=1.10.0->pystac-client) (0.25.1)\n",
            "Downloading pystac_client-0.8.6-py3-none-any.whl (41 kB)\n",
            "\u001b[2K   \u001b[90m━━━━━━━━━━━━━━━━━━━━━━━━━━━━━━━━━━━━━━━━\u001b[0m \u001b[32m41.4/41.4 kB\u001b[0m \u001b[31m2.2 MB/s\u001b[0m eta \u001b[36m0:00:00\u001b[0m\n",
            "\u001b[?25hDownloading planetary_computer-1.0.0-py3-none-any.whl (14 kB)\n",
            "Downloading pystac-1.13.0-py3-none-any.whl (206 kB)\n",
            "\u001b[2K   \u001b[90m━━━━━━━━━━━━━━━━━━━━━━━━━━━━━━━━━━━━━━━━\u001b[0m \u001b[32m206.8/206.8 kB\u001b[0m \u001b[31m12.7 MB/s\u001b[0m eta \u001b[36m0:00:00\u001b[0m\n",
            "\u001b[?25hDownloading python_dotenv-1.1.0-py3-none-any.whl (20 kB)\n",
            "Installing collected packages: python-dotenv, pystac, pystac-client, planetary-computer\n",
            "Successfully installed planetary-computer-1.0.0 pystac-1.13.0 pystac-client-0.8.6 python-dotenv-1.1.0\n"
          ]
        }
      ],
      "source": [
        "!pip install pystac-client planetary-computer"
      ]
    },
    {
      "cell_type": "code",
      "source": [
        "from pystac_client import Client\n",
        "import planetary_computer as pc\n",
        "\n",
        "# Connect to the STAC API\n",
        "catalog = Client.open(\"https://planetarycomputer.microsoft.com/api/stac/v1\")\n",
        "\n",
        "# Define area of interest (bounding box around part of California)\n",
        "aoi = {\n",
        "    \"type\": \"Polygon\",\n",
        "    \"coordinates\": [[\n",
        "        [-123.7063, 33.9560],\n",
        "        [-117.6025, 33.9560],\n",
        "        [-117.6025, 37.2459],\n",
        "        [-123.7063, 37.2459],\n",
        "        [-123.7063, 33.9560]\n",
        "    ]]\n",
        "}\n",
        "\n",
        "# Search Landsat data that intersects with AOI\n",
        "search = catalog.search(\n",
        "    filter_lang=\"cql2-json\",\n",
        "    filter={\n",
        "        \"op\": \"and\",\n",
        "        \"args\": [\n",
        "            {\"op\": \"s_intersects\", \"args\": [{\"property\": \"geometry\"}, aoi]},\n",
        "            {\"op\": \"=\", \"args\": [{\"property\": \"collection\"}, \"landsat-c2-l2\"]}\n",
        "        ]\n",
        "    }\n",
        ")\n",
        "\n",
        "# Get first matching item and sign asset links\n",
        "item = next(search.get_items())\n",
        "signed_item = pc.sign_item(item)\n",
        "\n",
        "# View available asset files (e.g., image bands)\n",
        "signed_item.assets\n"
      ],
      "metadata": {
        "colab": {
          "base_uri": "https://localhost:8080/"
        },
        "id": "YPdr1iZkUVDV",
        "outputId": "fc01d315-9e48-46da-c62f-71ef22294a34"
      },
      "execution_count": null,
      "outputs": [
        {
          "output_type": "stream",
          "name": "stderr",
          "text": [
            "/usr/local/lib/python3.11/dist-packages/pystac_client/item_search.py:881: FutureWarning: get_items() is deprecated, use items() instead\n",
            "  warnings.warn(\n"
          ]
        },
        {
          "output_type": "execute_result",
          "data": {
            "text/plain": [
              "{'qa': <Asset href=https://landsateuwest.blob.core.windows.net/landsat-c2/level-2/standard/oli-tirs/2025/040/037/LC09_L2SP_040037_20250531_20250601_02_T1/LC09_L2SP_040037_20250531_20250601_02_T1_ST_QA.TIF?st=2025-06-02T21%3A17%3A12Z&se=2025-06-03T22%3A02%3A12Z&sp=rl&sv=2024-05-04&sr=c&skoid=9c8ff44a-6a2c-4dfb-b298-1c9212f64d9a&sktid=72f988bf-86f1-41af-91ab-2d7cd011db47&skt=2025-06-03T19%3A46%3A30Z&ske=2025-06-10T19%3A46%3A30Z&sks=b&skv=2024-05-04&sig=uoRZ/iPLwD7tptXjnuydLzELO3ZLznV8NPqsgtjx0k0%3D>,\n",
              " 'ang': <Asset href=https://landsateuwest.blob.core.windows.net/landsat-c2/level-2/standard/oli-tirs/2025/040/037/LC09_L2SP_040037_20250531_20250601_02_T1/LC09_L2SP_040037_20250531_20250601_02_T1_ANG.txt?st=2025-06-02T21%3A17%3A12Z&se=2025-06-03T22%3A02%3A12Z&sp=rl&sv=2024-05-04&sr=c&skoid=9c8ff44a-6a2c-4dfb-b298-1c9212f64d9a&sktid=72f988bf-86f1-41af-91ab-2d7cd011db47&skt=2025-06-03T19%3A46%3A30Z&ske=2025-06-10T19%3A46%3A30Z&sks=b&skv=2024-05-04&sig=uoRZ/iPLwD7tptXjnuydLzELO3ZLznV8NPqsgtjx0k0%3D>,\n",
              " 'red': <Asset href=https://landsateuwest.blob.core.windows.net/landsat-c2/level-2/standard/oli-tirs/2025/040/037/LC09_L2SP_040037_20250531_20250601_02_T1/LC09_L2SP_040037_20250531_20250601_02_T1_SR_B4.TIF?st=2025-06-02T21%3A17%3A12Z&se=2025-06-03T22%3A02%3A12Z&sp=rl&sv=2024-05-04&sr=c&skoid=9c8ff44a-6a2c-4dfb-b298-1c9212f64d9a&sktid=72f988bf-86f1-41af-91ab-2d7cd011db47&skt=2025-06-03T19%3A46%3A30Z&ske=2025-06-10T19%3A46%3A30Z&sks=b&skv=2024-05-04&sig=uoRZ/iPLwD7tptXjnuydLzELO3ZLznV8NPqsgtjx0k0%3D>,\n",
              " 'blue': <Asset href=https://landsateuwest.blob.core.windows.net/landsat-c2/level-2/standard/oli-tirs/2025/040/037/LC09_L2SP_040037_20250531_20250601_02_T1/LC09_L2SP_040037_20250531_20250601_02_T1_SR_B2.TIF?st=2025-06-02T21%3A17%3A12Z&se=2025-06-03T22%3A02%3A12Z&sp=rl&sv=2024-05-04&sr=c&skoid=9c8ff44a-6a2c-4dfb-b298-1c9212f64d9a&sktid=72f988bf-86f1-41af-91ab-2d7cd011db47&skt=2025-06-03T19%3A46%3A30Z&ske=2025-06-10T19%3A46%3A30Z&sks=b&skv=2024-05-04&sig=uoRZ/iPLwD7tptXjnuydLzELO3ZLznV8NPqsgtjx0k0%3D>,\n",
              " 'drad': <Asset href=https://landsateuwest.blob.core.windows.net/landsat-c2/level-2/standard/oli-tirs/2025/040/037/LC09_L2SP_040037_20250531_20250601_02_T1/LC09_L2SP_040037_20250531_20250601_02_T1_ST_DRAD.TIF?st=2025-06-02T21%3A17%3A12Z&se=2025-06-03T22%3A02%3A12Z&sp=rl&sv=2024-05-04&sr=c&skoid=9c8ff44a-6a2c-4dfb-b298-1c9212f64d9a&sktid=72f988bf-86f1-41af-91ab-2d7cd011db47&skt=2025-06-03T19%3A46%3A30Z&ske=2025-06-10T19%3A46%3A30Z&sks=b&skv=2024-05-04&sig=uoRZ/iPLwD7tptXjnuydLzELO3ZLznV8NPqsgtjx0k0%3D>,\n",
              " 'emis': <Asset href=https://landsateuwest.blob.core.windows.net/landsat-c2/level-2/standard/oli-tirs/2025/040/037/LC09_L2SP_040037_20250531_20250601_02_T1/LC09_L2SP_040037_20250531_20250601_02_T1_ST_EMIS.TIF?st=2025-06-02T21%3A17%3A12Z&se=2025-06-03T22%3A02%3A12Z&sp=rl&sv=2024-05-04&sr=c&skoid=9c8ff44a-6a2c-4dfb-b298-1c9212f64d9a&sktid=72f988bf-86f1-41af-91ab-2d7cd011db47&skt=2025-06-03T19%3A46%3A30Z&ske=2025-06-10T19%3A46%3A30Z&sks=b&skv=2024-05-04&sig=uoRZ/iPLwD7tptXjnuydLzELO3ZLznV8NPqsgtjx0k0%3D>,\n",
              " 'emsd': <Asset href=https://landsateuwest.blob.core.windows.net/landsat-c2/level-2/standard/oli-tirs/2025/040/037/LC09_L2SP_040037_20250531_20250601_02_T1/LC09_L2SP_040037_20250531_20250601_02_T1_ST_EMSD.TIF?st=2025-06-02T21%3A17%3A12Z&se=2025-06-03T22%3A02%3A12Z&sp=rl&sv=2024-05-04&sr=c&skoid=9c8ff44a-6a2c-4dfb-b298-1c9212f64d9a&sktid=72f988bf-86f1-41af-91ab-2d7cd011db47&skt=2025-06-03T19%3A46%3A30Z&ske=2025-06-10T19%3A46%3A30Z&sks=b&skv=2024-05-04&sig=uoRZ/iPLwD7tptXjnuydLzELO3ZLznV8NPqsgtjx0k0%3D>,\n",
              " 'trad': <Asset href=https://landsateuwest.blob.core.windows.net/landsat-c2/level-2/standard/oli-tirs/2025/040/037/LC09_L2SP_040037_20250531_20250601_02_T1/LC09_L2SP_040037_20250531_20250601_02_T1_ST_TRAD.TIF?st=2025-06-02T21%3A17%3A12Z&se=2025-06-03T22%3A02%3A12Z&sp=rl&sv=2024-05-04&sr=c&skoid=9c8ff44a-6a2c-4dfb-b298-1c9212f64d9a&sktid=72f988bf-86f1-41af-91ab-2d7cd011db47&skt=2025-06-03T19%3A46%3A30Z&ske=2025-06-10T19%3A46%3A30Z&sks=b&skv=2024-05-04&sig=uoRZ/iPLwD7tptXjnuydLzELO3ZLznV8NPqsgtjx0k0%3D>,\n",
              " 'urad': <Asset href=https://landsateuwest.blob.core.windows.net/landsat-c2/level-2/standard/oli-tirs/2025/040/037/LC09_L2SP_040037_20250531_20250601_02_T1/LC09_L2SP_040037_20250531_20250601_02_T1_ST_URAD.TIF?st=2025-06-02T21%3A17%3A12Z&se=2025-06-03T22%3A02%3A12Z&sp=rl&sv=2024-05-04&sr=c&skoid=9c8ff44a-6a2c-4dfb-b298-1c9212f64d9a&sktid=72f988bf-86f1-41af-91ab-2d7cd011db47&skt=2025-06-03T19%3A46%3A30Z&ske=2025-06-10T19%3A46%3A30Z&sks=b&skv=2024-05-04&sig=uoRZ/iPLwD7tptXjnuydLzELO3ZLznV8NPqsgtjx0k0%3D>,\n",
              " 'atran': <Asset href=https://landsateuwest.blob.core.windows.net/landsat-c2/level-2/standard/oli-tirs/2025/040/037/LC09_L2SP_040037_20250531_20250601_02_T1/LC09_L2SP_040037_20250531_20250601_02_T1_ST_ATRAN.TIF?st=2025-06-02T21%3A17%3A12Z&se=2025-06-03T22%3A02%3A12Z&sp=rl&sv=2024-05-04&sr=c&skoid=9c8ff44a-6a2c-4dfb-b298-1c9212f64d9a&sktid=72f988bf-86f1-41af-91ab-2d7cd011db47&skt=2025-06-03T19%3A46%3A30Z&ske=2025-06-10T19%3A46%3A30Z&sks=b&skv=2024-05-04&sig=uoRZ/iPLwD7tptXjnuydLzELO3ZLznV8NPqsgtjx0k0%3D>,\n",
              " 'cdist': <Asset href=https://landsateuwest.blob.core.windows.net/landsat-c2/level-2/standard/oli-tirs/2025/040/037/LC09_L2SP_040037_20250531_20250601_02_T1/LC09_L2SP_040037_20250531_20250601_02_T1_ST_CDIST.TIF?st=2025-06-02T21%3A17%3A12Z&se=2025-06-03T22%3A02%3A12Z&sp=rl&sv=2024-05-04&sr=c&skoid=9c8ff44a-6a2c-4dfb-b298-1c9212f64d9a&sktid=72f988bf-86f1-41af-91ab-2d7cd011db47&skt=2025-06-03T19%3A46%3A30Z&ske=2025-06-10T19%3A46%3A30Z&sks=b&skv=2024-05-04&sig=uoRZ/iPLwD7tptXjnuydLzELO3ZLznV8NPqsgtjx0k0%3D>,\n",
              " 'green': <Asset href=https://landsateuwest.blob.core.windows.net/landsat-c2/level-2/standard/oli-tirs/2025/040/037/LC09_L2SP_040037_20250531_20250601_02_T1/LC09_L2SP_040037_20250531_20250601_02_T1_SR_B3.TIF?st=2025-06-02T21%3A17%3A12Z&se=2025-06-03T22%3A02%3A12Z&sp=rl&sv=2024-05-04&sr=c&skoid=9c8ff44a-6a2c-4dfb-b298-1c9212f64d9a&sktid=72f988bf-86f1-41af-91ab-2d7cd011db47&skt=2025-06-03T19%3A46%3A30Z&ske=2025-06-10T19%3A46%3A30Z&sks=b&skv=2024-05-04&sig=uoRZ/iPLwD7tptXjnuydLzELO3ZLznV8NPqsgtjx0k0%3D>,\n",
              " 'nir08': <Asset href=https://landsateuwest.blob.core.windows.net/landsat-c2/level-2/standard/oli-tirs/2025/040/037/LC09_L2SP_040037_20250531_20250601_02_T1/LC09_L2SP_040037_20250531_20250601_02_T1_SR_B5.TIF?st=2025-06-02T21%3A17%3A12Z&se=2025-06-03T22%3A02%3A12Z&sp=rl&sv=2024-05-04&sr=c&skoid=9c8ff44a-6a2c-4dfb-b298-1c9212f64d9a&sktid=72f988bf-86f1-41af-91ab-2d7cd011db47&skt=2025-06-03T19%3A46%3A30Z&ske=2025-06-10T19%3A46%3A30Z&sks=b&skv=2024-05-04&sig=uoRZ/iPLwD7tptXjnuydLzELO3ZLznV8NPqsgtjx0k0%3D>,\n",
              " 'lwir11': <Asset href=https://landsateuwest.blob.core.windows.net/landsat-c2/level-2/standard/oli-tirs/2025/040/037/LC09_L2SP_040037_20250531_20250601_02_T1/LC09_L2SP_040037_20250531_20250601_02_T1_ST_B10.TIF?st=2025-06-02T21%3A17%3A12Z&se=2025-06-03T22%3A02%3A12Z&sp=rl&sv=2024-05-04&sr=c&skoid=9c8ff44a-6a2c-4dfb-b298-1c9212f64d9a&sktid=72f988bf-86f1-41af-91ab-2d7cd011db47&skt=2025-06-03T19%3A46%3A30Z&ske=2025-06-10T19%3A46%3A30Z&sks=b&skv=2024-05-04&sig=uoRZ/iPLwD7tptXjnuydLzELO3ZLznV8NPqsgtjx0k0%3D>,\n",
              " 'swir16': <Asset href=https://landsateuwest.blob.core.windows.net/landsat-c2/level-2/standard/oli-tirs/2025/040/037/LC09_L2SP_040037_20250531_20250601_02_T1/LC09_L2SP_040037_20250531_20250601_02_T1_SR_B6.TIF?st=2025-06-02T21%3A17%3A12Z&se=2025-06-03T22%3A02%3A12Z&sp=rl&sv=2024-05-04&sr=c&skoid=9c8ff44a-6a2c-4dfb-b298-1c9212f64d9a&sktid=72f988bf-86f1-41af-91ab-2d7cd011db47&skt=2025-06-03T19%3A46%3A30Z&ske=2025-06-10T19%3A46%3A30Z&sks=b&skv=2024-05-04&sig=uoRZ/iPLwD7tptXjnuydLzELO3ZLznV8NPqsgtjx0k0%3D>,\n",
              " 'swir22': <Asset href=https://landsateuwest.blob.core.windows.net/landsat-c2/level-2/standard/oli-tirs/2025/040/037/LC09_L2SP_040037_20250531_20250601_02_T1/LC09_L2SP_040037_20250531_20250601_02_T1_SR_B7.TIF?st=2025-06-02T21%3A17%3A12Z&se=2025-06-03T22%3A02%3A12Z&sp=rl&sv=2024-05-04&sr=c&skoid=9c8ff44a-6a2c-4dfb-b298-1c9212f64d9a&sktid=72f988bf-86f1-41af-91ab-2d7cd011db47&skt=2025-06-03T19%3A46%3A30Z&ske=2025-06-10T19%3A46%3A30Z&sks=b&skv=2024-05-04&sig=uoRZ/iPLwD7tptXjnuydLzELO3ZLznV8NPqsgtjx0k0%3D>,\n",
              " 'coastal': <Asset href=https://landsateuwest.blob.core.windows.net/landsat-c2/level-2/standard/oli-tirs/2025/040/037/LC09_L2SP_040037_20250531_20250601_02_T1/LC09_L2SP_040037_20250531_20250601_02_T1_SR_B1.TIF?st=2025-06-02T21%3A17%3A12Z&se=2025-06-03T22%3A02%3A12Z&sp=rl&sv=2024-05-04&sr=c&skoid=9c8ff44a-6a2c-4dfb-b298-1c9212f64d9a&sktid=72f988bf-86f1-41af-91ab-2d7cd011db47&skt=2025-06-03T19%3A46%3A30Z&ske=2025-06-10T19%3A46%3A30Z&sks=b&skv=2024-05-04&sig=uoRZ/iPLwD7tptXjnuydLzELO3ZLznV8NPqsgtjx0k0%3D>,\n",
              " 'mtl.txt': <Asset href=https://landsateuwest.blob.core.windows.net/landsat-c2/level-2/standard/oli-tirs/2025/040/037/LC09_L2SP_040037_20250531_20250601_02_T1/LC09_L2SP_040037_20250531_20250601_02_T1_MTL.txt?st=2025-06-02T21%3A17%3A12Z&se=2025-06-03T22%3A02%3A12Z&sp=rl&sv=2024-05-04&sr=c&skoid=9c8ff44a-6a2c-4dfb-b298-1c9212f64d9a&sktid=72f988bf-86f1-41af-91ab-2d7cd011db47&skt=2025-06-03T19%3A46%3A30Z&ske=2025-06-10T19%3A46%3A30Z&sks=b&skv=2024-05-04&sig=uoRZ/iPLwD7tptXjnuydLzELO3ZLznV8NPqsgtjx0k0%3D>,\n",
              " 'mtl.xml': <Asset href=https://landsateuwest.blob.core.windows.net/landsat-c2/level-2/standard/oli-tirs/2025/040/037/LC09_L2SP_040037_20250531_20250601_02_T1/LC09_L2SP_040037_20250531_20250601_02_T1_MTL.xml?st=2025-06-02T21%3A17%3A12Z&se=2025-06-03T22%3A02%3A12Z&sp=rl&sv=2024-05-04&sr=c&skoid=9c8ff44a-6a2c-4dfb-b298-1c9212f64d9a&sktid=72f988bf-86f1-41af-91ab-2d7cd011db47&skt=2025-06-03T19%3A46%3A30Z&ske=2025-06-10T19%3A46%3A30Z&sks=b&skv=2024-05-04&sig=uoRZ/iPLwD7tptXjnuydLzELO3ZLznV8NPqsgtjx0k0%3D>,\n",
              " 'mtl.json': <Asset href=https://landsateuwest.blob.core.windows.net/landsat-c2/level-2/standard/oli-tirs/2025/040/037/LC09_L2SP_040037_20250531_20250601_02_T1/LC09_L2SP_040037_20250531_20250601_02_T1_MTL.json?st=2025-06-02T21%3A17%3A12Z&se=2025-06-03T22%3A02%3A12Z&sp=rl&sv=2024-05-04&sr=c&skoid=9c8ff44a-6a2c-4dfb-b298-1c9212f64d9a&sktid=72f988bf-86f1-41af-91ab-2d7cd011db47&skt=2025-06-03T19%3A46%3A30Z&ske=2025-06-10T19%3A46%3A30Z&sks=b&skv=2024-05-04&sig=uoRZ/iPLwD7tptXjnuydLzELO3ZLznV8NPqsgtjx0k0%3D>,\n",
              " 'qa_pixel': <Asset href=https://landsateuwest.blob.core.windows.net/landsat-c2/level-2/standard/oli-tirs/2025/040/037/LC09_L2SP_040037_20250531_20250601_02_T1/LC09_L2SP_040037_20250531_20250601_02_T1_QA_PIXEL.TIF?st=2025-06-02T21%3A17%3A12Z&se=2025-06-03T22%3A02%3A12Z&sp=rl&sv=2024-05-04&sr=c&skoid=9c8ff44a-6a2c-4dfb-b298-1c9212f64d9a&sktid=72f988bf-86f1-41af-91ab-2d7cd011db47&skt=2025-06-03T19%3A46%3A30Z&ske=2025-06-10T19%3A46%3A30Z&sks=b&skv=2024-05-04&sig=uoRZ/iPLwD7tptXjnuydLzELO3ZLznV8NPqsgtjx0k0%3D>,\n",
              " 'qa_radsat': <Asset href=https://landsateuwest.blob.core.windows.net/landsat-c2/level-2/standard/oli-tirs/2025/040/037/LC09_L2SP_040037_20250531_20250601_02_T1/LC09_L2SP_040037_20250531_20250601_02_T1_QA_RADSAT.TIF?st=2025-06-02T21%3A17%3A12Z&se=2025-06-03T22%3A02%3A12Z&sp=rl&sv=2024-05-04&sr=c&skoid=9c8ff44a-6a2c-4dfb-b298-1c9212f64d9a&sktid=72f988bf-86f1-41af-91ab-2d7cd011db47&skt=2025-06-03T19%3A46%3A30Z&ske=2025-06-10T19%3A46%3A30Z&sks=b&skv=2024-05-04&sig=uoRZ/iPLwD7tptXjnuydLzELO3ZLznV8NPqsgtjx0k0%3D>,\n",
              " 'qa_aerosol': <Asset href=https://landsateuwest.blob.core.windows.net/landsat-c2/level-2/standard/oli-tirs/2025/040/037/LC09_L2SP_040037_20250531_20250601_02_T1/LC09_L2SP_040037_20250531_20250601_02_T1_SR_QA_AEROSOL.TIF?st=2025-06-02T21%3A17%3A12Z&se=2025-06-03T22%3A02%3A12Z&sp=rl&sv=2024-05-04&sr=c&skoid=9c8ff44a-6a2c-4dfb-b298-1c9212f64d9a&sktid=72f988bf-86f1-41af-91ab-2d7cd011db47&skt=2025-06-03T19%3A46%3A30Z&ske=2025-06-10T19%3A46%3A30Z&sks=b&skv=2024-05-04&sig=uoRZ/iPLwD7tptXjnuydLzELO3ZLznV8NPqsgtjx0k0%3D>,\n",
              " 'tilejson': <Asset href=https://planetarycomputer.microsoft.com/api/data/v1/item/tilejson.json?collection=landsat-c2-l2&item=LC09_L2SP_040037_20250531_02_T1&assets=red&assets=green&assets=blue&color_formula=gamma+RGB+2.7%2C+saturation+1.5%2C+sigmoidal+RGB+15+0.55&format=png>,\n",
              " 'rendered_preview': <Asset href=https://planetarycomputer.microsoft.com/api/data/v1/item/preview.png?collection=landsat-c2-l2&item=LC09_L2SP_040037_20250531_02_T1&assets=red&assets=green&assets=blue&color_formula=gamma+RGB+2.7%2C+saturation+1.5%2C+sigmoidal+RGB+15+0.55&format=png>}"
            ]
          },
          "metadata": {},
          "execution_count": 2
        }
      ]
    },
    {
      "cell_type": "code",
      "source": [
        "for key, asset in signed_item.assets.items():\n",
        "    print(key, \"→\", asset.href)\n"
      ],
      "metadata": {
        "colab": {
          "base_uri": "https://localhost:8080/"
        },
        "id": "4qpN12xkUky3",
        "outputId": "db331202-8946-4943-913a-a9cef14cba50"
      },
      "execution_count": null,
      "outputs": [
        {
          "output_type": "stream",
          "name": "stdout",
          "text": [
            "qa → https://landsateuwest.blob.core.windows.net/landsat-c2/level-2/standard/oli-tirs/2025/040/037/LC09_L2SP_040037_20250531_20250601_02_T1/LC09_L2SP_040037_20250531_20250601_02_T1_ST_QA.TIF?st=2025-06-02T21%3A17%3A12Z&se=2025-06-03T22%3A02%3A12Z&sp=rl&sv=2024-05-04&sr=c&skoid=9c8ff44a-6a2c-4dfb-b298-1c9212f64d9a&sktid=72f988bf-86f1-41af-91ab-2d7cd011db47&skt=2025-06-03T19%3A46%3A30Z&ske=2025-06-10T19%3A46%3A30Z&sks=b&skv=2024-05-04&sig=uoRZ/iPLwD7tptXjnuydLzELO3ZLznV8NPqsgtjx0k0%3D\n",
            "ang → https://landsateuwest.blob.core.windows.net/landsat-c2/level-2/standard/oli-tirs/2025/040/037/LC09_L2SP_040037_20250531_20250601_02_T1/LC09_L2SP_040037_20250531_20250601_02_T1_ANG.txt?st=2025-06-02T21%3A17%3A12Z&se=2025-06-03T22%3A02%3A12Z&sp=rl&sv=2024-05-04&sr=c&skoid=9c8ff44a-6a2c-4dfb-b298-1c9212f64d9a&sktid=72f988bf-86f1-41af-91ab-2d7cd011db47&skt=2025-06-03T19%3A46%3A30Z&ske=2025-06-10T19%3A46%3A30Z&sks=b&skv=2024-05-04&sig=uoRZ/iPLwD7tptXjnuydLzELO3ZLznV8NPqsgtjx0k0%3D\n",
            "red → https://landsateuwest.blob.core.windows.net/landsat-c2/level-2/standard/oli-tirs/2025/040/037/LC09_L2SP_040037_20250531_20250601_02_T1/LC09_L2SP_040037_20250531_20250601_02_T1_SR_B4.TIF?st=2025-06-02T21%3A17%3A12Z&se=2025-06-03T22%3A02%3A12Z&sp=rl&sv=2024-05-04&sr=c&skoid=9c8ff44a-6a2c-4dfb-b298-1c9212f64d9a&sktid=72f988bf-86f1-41af-91ab-2d7cd011db47&skt=2025-06-03T19%3A46%3A30Z&ske=2025-06-10T19%3A46%3A30Z&sks=b&skv=2024-05-04&sig=uoRZ/iPLwD7tptXjnuydLzELO3ZLznV8NPqsgtjx0k0%3D\n",
            "blue → https://landsateuwest.blob.core.windows.net/landsat-c2/level-2/standard/oli-tirs/2025/040/037/LC09_L2SP_040037_20250531_20250601_02_T1/LC09_L2SP_040037_20250531_20250601_02_T1_SR_B2.TIF?st=2025-06-02T21%3A17%3A12Z&se=2025-06-03T22%3A02%3A12Z&sp=rl&sv=2024-05-04&sr=c&skoid=9c8ff44a-6a2c-4dfb-b298-1c9212f64d9a&sktid=72f988bf-86f1-41af-91ab-2d7cd011db47&skt=2025-06-03T19%3A46%3A30Z&ske=2025-06-10T19%3A46%3A30Z&sks=b&skv=2024-05-04&sig=uoRZ/iPLwD7tptXjnuydLzELO3ZLznV8NPqsgtjx0k0%3D\n",
            "drad → https://landsateuwest.blob.core.windows.net/landsat-c2/level-2/standard/oli-tirs/2025/040/037/LC09_L2SP_040037_20250531_20250601_02_T1/LC09_L2SP_040037_20250531_20250601_02_T1_ST_DRAD.TIF?st=2025-06-02T21%3A17%3A12Z&se=2025-06-03T22%3A02%3A12Z&sp=rl&sv=2024-05-04&sr=c&skoid=9c8ff44a-6a2c-4dfb-b298-1c9212f64d9a&sktid=72f988bf-86f1-41af-91ab-2d7cd011db47&skt=2025-06-03T19%3A46%3A30Z&ske=2025-06-10T19%3A46%3A30Z&sks=b&skv=2024-05-04&sig=uoRZ/iPLwD7tptXjnuydLzELO3ZLznV8NPqsgtjx0k0%3D\n",
            "emis → https://landsateuwest.blob.core.windows.net/landsat-c2/level-2/standard/oli-tirs/2025/040/037/LC09_L2SP_040037_20250531_20250601_02_T1/LC09_L2SP_040037_20250531_20250601_02_T1_ST_EMIS.TIF?st=2025-06-02T21%3A17%3A12Z&se=2025-06-03T22%3A02%3A12Z&sp=rl&sv=2024-05-04&sr=c&skoid=9c8ff44a-6a2c-4dfb-b298-1c9212f64d9a&sktid=72f988bf-86f1-41af-91ab-2d7cd011db47&skt=2025-06-03T19%3A46%3A30Z&ske=2025-06-10T19%3A46%3A30Z&sks=b&skv=2024-05-04&sig=uoRZ/iPLwD7tptXjnuydLzELO3ZLznV8NPqsgtjx0k0%3D\n",
            "emsd → https://landsateuwest.blob.core.windows.net/landsat-c2/level-2/standard/oli-tirs/2025/040/037/LC09_L2SP_040037_20250531_20250601_02_T1/LC09_L2SP_040037_20250531_20250601_02_T1_ST_EMSD.TIF?st=2025-06-02T21%3A17%3A12Z&se=2025-06-03T22%3A02%3A12Z&sp=rl&sv=2024-05-04&sr=c&skoid=9c8ff44a-6a2c-4dfb-b298-1c9212f64d9a&sktid=72f988bf-86f1-41af-91ab-2d7cd011db47&skt=2025-06-03T19%3A46%3A30Z&ske=2025-06-10T19%3A46%3A30Z&sks=b&skv=2024-05-04&sig=uoRZ/iPLwD7tptXjnuydLzELO3ZLznV8NPqsgtjx0k0%3D\n",
            "trad → https://landsateuwest.blob.core.windows.net/landsat-c2/level-2/standard/oli-tirs/2025/040/037/LC09_L2SP_040037_20250531_20250601_02_T1/LC09_L2SP_040037_20250531_20250601_02_T1_ST_TRAD.TIF?st=2025-06-02T21%3A17%3A12Z&se=2025-06-03T22%3A02%3A12Z&sp=rl&sv=2024-05-04&sr=c&skoid=9c8ff44a-6a2c-4dfb-b298-1c9212f64d9a&sktid=72f988bf-86f1-41af-91ab-2d7cd011db47&skt=2025-06-03T19%3A46%3A30Z&ske=2025-06-10T19%3A46%3A30Z&sks=b&skv=2024-05-04&sig=uoRZ/iPLwD7tptXjnuydLzELO3ZLznV8NPqsgtjx0k0%3D\n",
            "urad → https://landsateuwest.blob.core.windows.net/landsat-c2/level-2/standard/oli-tirs/2025/040/037/LC09_L2SP_040037_20250531_20250601_02_T1/LC09_L2SP_040037_20250531_20250601_02_T1_ST_URAD.TIF?st=2025-06-02T21%3A17%3A12Z&se=2025-06-03T22%3A02%3A12Z&sp=rl&sv=2024-05-04&sr=c&skoid=9c8ff44a-6a2c-4dfb-b298-1c9212f64d9a&sktid=72f988bf-86f1-41af-91ab-2d7cd011db47&skt=2025-06-03T19%3A46%3A30Z&ske=2025-06-10T19%3A46%3A30Z&sks=b&skv=2024-05-04&sig=uoRZ/iPLwD7tptXjnuydLzELO3ZLznV8NPqsgtjx0k0%3D\n",
            "atran → https://landsateuwest.blob.core.windows.net/landsat-c2/level-2/standard/oli-tirs/2025/040/037/LC09_L2SP_040037_20250531_20250601_02_T1/LC09_L2SP_040037_20250531_20250601_02_T1_ST_ATRAN.TIF?st=2025-06-02T21%3A17%3A12Z&se=2025-06-03T22%3A02%3A12Z&sp=rl&sv=2024-05-04&sr=c&skoid=9c8ff44a-6a2c-4dfb-b298-1c9212f64d9a&sktid=72f988bf-86f1-41af-91ab-2d7cd011db47&skt=2025-06-03T19%3A46%3A30Z&ske=2025-06-10T19%3A46%3A30Z&sks=b&skv=2024-05-04&sig=uoRZ/iPLwD7tptXjnuydLzELO3ZLznV8NPqsgtjx0k0%3D\n",
            "cdist → https://landsateuwest.blob.core.windows.net/landsat-c2/level-2/standard/oli-tirs/2025/040/037/LC09_L2SP_040037_20250531_20250601_02_T1/LC09_L2SP_040037_20250531_20250601_02_T1_ST_CDIST.TIF?st=2025-06-02T21%3A17%3A12Z&se=2025-06-03T22%3A02%3A12Z&sp=rl&sv=2024-05-04&sr=c&skoid=9c8ff44a-6a2c-4dfb-b298-1c9212f64d9a&sktid=72f988bf-86f1-41af-91ab-2d7cd011db47&skt=2025-06-03T19%3A46%3A30Z&ske=2025-06-10T19%3A46%3A30Z&sks=b&skv=2024-05-04&sig=uoRZ/iPLwD7tptXjnuydLzELO3ZLznV8NPqsgtjx0k0%3D\n",
            "green → https://landsateuwest.blob.core.windows.net/landsat-c2/level-2/standard/oli-tirs/2025/040/037/LC09_L2SP_040037_20250531_20250601_02_T1/LC09_L2SP_040037_20250531_20250601_02_T1_SR_B3.TIF?st=2025-06-02T21%3A17%3A12Z&se=2025-06-03T22%3A02%3A12Z&sp=rl&sv=2024-05-04&sr=c&skoid=9c8ff44a-6a2c-4dfb-b298-1c9212f64d9a&sktid=72f988bf-86f1-41af-91ab-2d7cd011db47&skt=2025-06-03T19%3A46%3A30Z&ske=2025-06-10T19%3A46%3A30Z&sks=b&skv=2024-05-04&sig=uoRZ/iPLwD7tptXjnuydLzELO3ZLznV8NPqsgtjx0k0%3D\n",
            "nir08 → https://landsateuwest.blob.core.windows.net/landsat-c2/level-2/standard/oli-tirs/2025/040/037/LC09_L2SP_040037_20250531_20250601_02_T1/LC09_L2SP_040037_20250531_20250601_02_T1_SR_B5.TIF?st=2025-06-02T21%3A17%3A12Z&se=2025-06-03T22%3A02%3A12Z&sp=rl&sv=2024-05-04&sr=c&skoid=9c8ff44a-6a2c-4dfb-b298-1c9212f64d9a&sktid=72f988bf-86f1-41af-91ab-2d7cd011db47&skt=2025-06-03T19%3A46%3A30Z&ske=2025-06-10T19%3A46%3A30Z&sks=b&skv=2024-05-04&sig=uoRZ/iPLwD7tptXjnuydLzELO3ZLznV8NPqsgtjx0k0%3D\n",
            "lwir11 → https://landsateuwest.blob.core.windows.net/landsat-c2/level-2/standard/oli-tirs/2025/040/037/LC09_L2SP_040037_20250531_20250601_02_T1/LC09_L2SP_040037_20250531_20250601_02_T1_ST_B10.TIF?st=2025-06-02T21%3A17%3A12Z&se=2025-06-03T22%3A02%3A12Z&sp=rl&sv=2024-05-04&sr=c&skoid=9c8ff44a-6a2c-4dfb-b298-1c9212f64d9a&sktid=72f988bf-86f1-41af-91ab-2d7cd011db47&skt=2025-06-03T19%3A46%3A30Z&ske=2025-06-10T19%3A46%3A30Z&sks=b&skv=2024-05-04&sig=uoRZ/iPLwD7tptXjnuydLzELO3ZLznV8NPqsgtjx0k0%3D\n",
            "swir16 → https://landsateuwest.blob.core.windows.net/landsat-c2/level-2/standard/oli-tirs/2025/040/037/LC09_L2SP_040037_20250531_20250601_02_T1/LC09_L2SP_040037_20250531_20250601_02_T1_SR_B6.TIF?st=2025-06-02T21%3A17%3A12Z&se=2025-06-03T22%3A02%3A12Z&sp=rl&sv=2024-05-04&sr=c&skoid=9c8ff44a-6a2c-4dfb-b298-1c9212f64d9a&sktid=72f988bf-86f1-41af-91ab-2d7cd011db47&skt=2025-06-03T19%3A46%3A30Z&ske=2025-06-10T19%3A46%3A30Z&sks=b&skv=2024-05-04&sig=uoRZ/iPLwD7tptXjnuydLzELO3ZLznV8NPqsgtjx0k0%3D\n",
            "swir22 → https://landsateuwest.blob.core.windows.net/landsat-c2/level-2/standard/oli-tirs/2025/040/037/LC09_L2SP_040037_20250531_20250601_02_T1/LC09_L2SP_040037_20250531_20250601_02_T1_SR_B7.TIF?st=2025-06-02T21%3A17%3A12Z&se=2025-06-03T22%3A02%3A12Z&sp=rl&sv=2024-05-04&sr=c&skoid=9c8ff44a-6a2c-4dfb-b298-1c9212f64d9a&sktid=72f988bf-86f1-41af-91ab-2d7cd011db47&skt=2025-06-03T19%3A46%3A30Z&ske=2025-06-10T19%3A46%3A30Z&sks=b&skv=2024-05-04&sig=uoRZ/iPLwD7tptXjnuydLzELO3ZLznV8NPqsgtjx0k0%3D\n",
            "coastal → https://landsateuwest.blob.core.windows.net/landsat-c2/level-2/standard/oli-tirs/2025/040/037/LC09_L2SP_040037_20250531_20250601_02_T1/LC09_L2SP_040037_20250531_20250601_02_T1_SR_B1.TIF?st=2025-06-02T21%3A17%3A12Z&se=2025-06-03T22%3A02%3A12Z&sp=rl&sv=2024-05-04&sr=c&skoid=9c8ff44a-6a2c-4dfb-b298-1c9212f64d9a&sktid=72f988bf-86f1-41af-91ab-2d7cd011db47&skt=2025-06-03T19%3A46%3A30Z&ske=2025-06-10T19%3A46%3A30Z&sks=b&skv=2024-05-04&sig=uoRZ/iPLwD7tptXjnuydLzELO3ZLznV8NPqsgtjx0k0%3D\n",
            "mtl.txt → https://landsateuwest.blob.core.windows.net/landsat-c2/level-2/standard/oli-tirs/2025/040/037/LC09_L2SP_040037_20250531_20250601_02_T1/LC09_L2SP_040037_20250531_20250601_02_T1_MTL.txt?st=2025-06-02T21%3A17%3A12Z&se=2025-06-03T22%3A02%3A12Z&sp=rl&sv=2024-05-04&sr=c&skoid=9c8ff44a-6a2c-4dfb-b298-1c9212f64d9a&sktid=72f988bf-86f1-41af-91ab-2d7cd011db47&skt=2025-06-03T19%3A46%3A30Z&ske=2025-06-10T19%3A46%3A30Z&sks=b&skv=2024-05-04&sig=uoRZ/iPLwD7tptXjnuydLzELO3ZLznV8NPqsgtjx0k0%3D\n",
            "mtl.xml → https://landsateuwest.blob.core.windows.net/landsat-c2/level-2/standard/oli-tirs/2025/040/037/LC09_L2SP_040037_20250531_20250601_02_T1/LC09_L2SP_040037_20250531_20250601_02_T1_MTL.xml?st=2025-06-02T21%3A17%3A12Z&se=2025-06-03T22%3A02%3A12Z&sp=rl&sv=2024-05-04&sr=c&skoid=9c8ff44a-6a2c-4dfb-b298-1c9212f64d9a&sktid=72f988bf-86f1-41af-91ab-2d7cd011db47&skt=2025-06-03T19%3A46%3A30Z&ske=2025-06-10T19%3A46%3A30Z&sks=b&skv=2024-05-04&sig=uoRZ/iPLwD7tptXjnuydLzELO3ZLznV8NPqsgtjx0k0%3D\n",
            "mtl.json → https://landsateuwest.blob.core.windows.net/landsat-c2/level-2/standard/oli-tirs/2025/040/037/LC09_L2SP_040037_20250531_20250601_02_T1/LC09_L2SP_040037_20250531_20250601_02_T1_MTL.json?st=2025-06-02T21%3A17%3A12Z&se=2025-06-03T22%3A02%3A12Z&sp=rl&sv=2024-05-04&sr=c&skoid=9c8ff44a-6a2c-4dfb-b298-1c9212f64d9a&sktid=72f988bf-86f1-41af-91ab-2d7cd011db47&skt=2025-06-03T19%3A46%3A30Z&ske=2025-06-10T19%3A46%3A30Z&sks=b&skv=2024-05-04&sig=uoRZ/iPLwD7tptXjnuydLzELO3ZLznV8NPqsgtjx0k0%3D\n",
            "qa_pixel → https://landsateuwest.blob.core.windows.net/landsat-c2/level-2/standard/oli-tirs/2025/040/037/LC09_L2SP_040037_20250531_20250601_02_T1/LC09_L2SP_040037_20250531_20250601_02_T1_QA_PIXEL.TIF?st=2025-06-02T21%3A17%3A12Z&se=2025-06-03T22%3A02%3A12Z&sp=rl&sv=2024-05-04&sr=c&skoid=9c8ff44a-6a2c-4dfb-b298-1c9212f64d9a&sktid=72f988bf-86f1-41af-91ab-2d7cd011db47&skt=2025-06-03T19%3A46%3A30Z&ske=2025-06-10T19%3A46%3A30Z&sks=b&skv=2024-05-04&sig=uoRZ/iPLwD7tptXjnuydLzELO3ZLznV8NPqsgtjx0k0%3D\n",
            "qa_radsat → https://landsateuwest.blob.core.windows.net/landsat-c2/level-2/standard/oli-tirs/2025/040/037/LC09_L2SP_040037_20250531_20250601_02_T1/LC09_L2SP_040037_20250531_20250601_02_T1_QA_RADSAT.TIF?st=2025-06-02T21%3A17%3A12Z&se=2025-06-03T22%3A02%3A12Z&sp=rl&sv=2024-05-04&sr=c&skoid=9c8ff44a-6a2c-4dfb-b298-1c9212f64d9a&sktid=72f988bf-86f1-41af-91ab-2d7cd011db47&skt=2025-06-03T19%3A46%3A30Z&ske=2025-06-10T19%3A46%3A30Z&sks=b&skv=2024-05-04&sig=uoRZ/iPLwD7tptXjnuydLzELO3ZLznV8NPqsgtjx0k0%3D\n",
            "qa_aerosol → https://landsateuwest.blob.core.windows.net/landsat-c2/level-2/standard/oli-tirs/2025/040/037/LC09_L2SP_040037_20250531_20250601_02_T1/LC09_L2SP_040037_20250531_20250601_02_T1_SR_QA_AEROSOL.TIF?st=2025-06-02T21%3A17%3A12Z&se=2025-06-03T22%3A02%3A12Z&sp=rl&sv=2024-05-04&sr=c&skoid=9c8ff44a-6a2c-4dfb-b298-1c9212f64d9a&sktid=72f988bf-86f1-41af-91ab-2d7cd011db47&skt=2025-06-03T19%3A46%3A30Z&ske=2025-06-10T19%3A46%3A30Z&sks=b&skv=2024-05-04&sig=uoRZ/iPLwD7tptXjnuydLzELO3ZLznV8NPqsgtjx0k0%3D\n",
            "tilejson → https://planetarycomputer.microsoft.com/api/data/v1/item/tilejson.json?collection=landsat-c2-l2&item=LC09_L2SP_040037_20250531_02_T1&assets=red&assets=green&assets=blue&color_formula=gamma+RGB+2.7%2C+saturation+1.5%2C+sigmoidal+RGB+15+0.55&format=png\n",
            "rendered_preview → https://planetarycomputer.microsoft.com/api/data/v1/item/preview.png?collection=landsat-c2-l2&item=LC09_L2SP_040037_20250531_02_T1&assets=red&assets=green&assets=blue&color_formula=gamma+RGB+2.7%2C+saturation+1.5%2C+sigmoidal+RGB+15+0.55&format=png\n"
          ]
        }
      ]
    },
    {
      "cell_type": "markdown",
      "source": [
        "Spectral Bands (used for analysis)\n",
        "\n",
        "| Key       | Meaning                                           |\n",
        "| --------- | ------------------------------------------------- |\n",
        "| `red`     | Band 4 – Red light (used in NDVI, RGB)            |\n",
        "| `blue`    | Band 2 – Blue light                               |\n",
        "| `green`   | Band 3 – Green light                              |\n",
        "| `nir08`   | Band 5 – Near-infrared (important for vegetation) |\n",
        "| `swir16`  | Band 6 – Shortwave Infrared 1                     |\n",
        "| `swir22`  | Band 7 – Shortwave Infrared 2                     |\n",
        "| `lwir11`  | Band 10 – Longwave Infrared (thermal)             |\n",
        "| `coastal` | Band 1 – Coastal/aerosol band                     |\n",
        "\n",
        "Radiometric Calibration & Reflectance\n",
        "\n",
        "| Key     | Meaning                       |\n",
        "| ------- | ----------------------------- |\n",
        "| `drad`  | Downwelled radiance           |\n",
        "| `trad`  | Top-of-atmosphere radiance    |\n",
        "| `urad`  | Upwelled radiance             |\n",
        "| `emsd`  | Emissivity standard deviation |\n",
        "| `emis`  | Emissivity                    |\n",
        "| `atran` | Atmospheric transmittance     |\n",
        "| `cdist` | Cloud distance                |\n",
        "\n",
        "Metadata and Quality Assessment\n",
        "\n",
        "| Key          | Meaning                                                             |\n",
        "| ------------ | ------------------------------------------------------------------- |\n",
        "| `qa`         | QA band with pixel-level quality flags (e.g., cloud cover, shadows) |\n",
        "| `qa_pixel`   | Per-pixel QA bitmask                                                |\n",
        "| `qa_radsat`  | QA mask for saturated radiance                                      |\n",
        "| `qa_aerosol` | Aerosol confidence layer                                            |\n",
        "| `ang`        | Solar and sensor angle metadata                                     |\n",
        "| `mtl.txt`    | Metadata text file                                                  |\n",
        "| `mtl.xml`    | Metadata in XML format                                              |\n",
        "| `mtl.json`   | Metadata in JSON format                                             |\n",
        "\n",
        "Web Map Visualization\n",
        "\n",
        "| Key                | Meaning                                            |\n",
        "| ------------------ | -------------------------------------------------- |\n",
        "| `tilejson`         | Tiled image metadata for web display               |\n",
        "| `rendered_preview` | Pre-rendered visual preview (RGB or natural color) |\n",
        "\n",
        "Summary: What You’d Typically Use\n",
        "- For vegetation or land cover: red, green, blue, nir08\n",
        "\n",
        "- For thermal or fire analysis: lwir11\n",
        "\n",
        "- For cloud filtering: qa, qa_pixel\n",
        "\n",
        "- For atmospheric correction: drad, trad, atran\n",
        "\n",
        "- For RGB preview: rendered_preview\n"
      ],
      "metadata": {
        "id": "jN4WEIDNV0kL"
      }
    },
    {
      "cell_type": "code",
      "source": [
        "from pystac_client import Client\n",
        "import planetary_computer as pc\n",
        "\n",
        "# Connect to Planetary Computer STAC API\n",
        "catalog = Client.open(\"https://planetarycomputer.microsoft.com/api/stac/v1\")\n",
        "\n",
        "# Define area of interest (AOI) as a polygon\n",
        "aoi = {\n",
        "    \"type\": \"Polygon\",\n",
        "    \"coordinates\": [\n",
        "        [\n",
        "            [-121.60853461364489, 36.143143954121854],\n",
        "            [-119.34690337506298, 36.143143954121854],\n",
        "            [-119.34690337506298, 37.344767306723014],\n",
        "            [-121.60853461364489, 37.344767306723014],\n",
        "            [-121.60853461364489, 36.143143954121854]\n",
        "        ]\n",
        "    ]\n",
        "}\n",
        "\n",
        "# Search for USGS 3DEP LiDAR classification items in the AOI\n",
        "search = catalog.search(\n",
        "    filter_lang=\"cql2-json\",\n",
        "    filter={\n",
        "        \"op\": \"and\",\n",
        "        \"args\": [\n",
        "            {\"op\": \"s_intersects\", \"args\": [{\"property\": \"geometry\"}, aoi]},\n",
        "            {\"op\": \"=\", \"args\": [{\"property\": \"collection\"}, \"3dep-lidar-classification\"]}\n",
        "        ]\n",
        "    }\n",
        ")\n",
        "\n",
        "# Get first result and sign URLs\n",
        "first_item = next(search.get_items())\n",
        "signed_item = pc.sign_item(first_item)\n",
        "\n",
        "# Print available assets (e.g., URL to download the GeoTIFF)\n",
        "for key, asset in signed_item.assets.items():\n",
        "    print(f\"{key}: {asset.href}\")\n"
      ],
      "metadata": {
        "colab": {
          "base_uri": "https://localhost:8080/"
        },
        "id": "c1lNsF3tlOiG",
        "outputId": "7db3edac-3b36-4453-bfe0-d87a4b5ba2f0"
      },
      "execution_count": null,
      "outputs": [
        {
          "output_type": "stream",
          "name": "stdout",
          "text": [
            "data: https://usgslidareuwest.blob.core.windows.net/usgs-3dep-cogs/usgs-cogs/USGS_LPC_CA_Central_Valley_2017_LAS_2019/classification/USGS_LPC_CA_Central_Valley_2017_LAS_2019-classification-2m-9-6.tif?st=2025-06-02T21%3A17%3A28Z&se=2025-06-03T22%3A02%3A28Z&sp=rl&sv=2024-05-04&sr=c&skoid=9c8ff44a-6a2c-4dfb-b298-1c9212f64d9a&sktid=72f988bf-86f1-41af-91ab-2d7cd011db47&skt=2025-06-03T01%3A39%3A21Z&ske=2025-06-10T01%3A39%3A21Z&sks=b&skv=2024-05-04&sig=H0/kb7p6Or7vQ%2BAIUVTOXcv1GY0g4FGRUPOJZSqhuxw%3D\n",
            "thumbnail: https://usgslidareuwest.blob.core.windows.net/usgs-3dep-cogs/usgs-cogs/USGS_LPC_CA_Central_Valley_2017_LAS_2019/classification/thumbnails/USGS_LPC_CA_Central_Valley_2017_LAS_2019-classification-2m-9-6-thumbnail.png?st=2025-06-02T21%3A17%3A28Z&se=2025-06-03T22%3A02%3A28Z&sp=rl&sv=2024-05-04&sr=c&skoid=9c8ff44a-6a2c-4dfb-b298-1c9212f64d9a&sktid=72f988bf-86f1-41af-91ab-2d7cd011db47&skt=2025-06-03T01%3A39%3A21Z&ske=2025-06-10T01%3A39%3A21Z&sks=b&skv=2024-05-04&sig=H0/kb7p6Or7vQ%2BAIUVTOXcv1GY0g4FGRUPOJZSqhuxw%3D\n",
            "tilejson: https://planetarycomputer.microsoft.com/api/data/v1/item/tilejson.json?collection=3dep-lidar-classification&item=USGS_LPC_CA_Central_Valley_2017_LAS_2019-classification-2m-9-6&assets=data&colormap_name=lidar-classification&nodata=-9999&format=png\n",
            "rendered_preview: https://planetarycomputer.microsoft.com/api/data/v1/item/preview.png?collection=3dep-lidar-classification&item=USGS_LPC_CA_Central_Valley_2017_LAS_2019-classification-2m-9-6&assets=data&colormap_name=lidar-classification&nodata=-9999&format=png\n"
          ]
        }
      ]
    },
    {
      "cell_type": "markdown",
      "source": [
        "-  data – this is the main LiDAR-derived raster (probably a Digital Terrain Model or LiDAR classification raster in GeoTIFF format)\n",
        "\n",
        "- thumbnail – small image preview\n",
        "\n",
        "- tilejson – metadata for tiled web maps\n",
        "\n",
        "- rendered_preview – PNG for quick visual reference"
      ],
      "metadata": {
        "id": "FBRe-fzsmTha"
      }
    }
  ]
}